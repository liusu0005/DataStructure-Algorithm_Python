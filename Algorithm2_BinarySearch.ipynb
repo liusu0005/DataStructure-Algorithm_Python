{
 "cells": [
  {
   "cell_type": "markdown",
   "metadata": {},
   "source": [
    "Best: O(1)\n",
    "\n",
    "Worst: O(logn)"
   ]
  },
  {
   "cell_type": "markdown",
   "metadata": {},
   "source": [
    "## Recursive"
   ]
  },
  {
   "cell_type": "code",
   "execution_count": 15,
   "metadata": {},
   "outputs": [],
   "source": [
    "def binary_search(alist, item):\n",
    "    '''\n",
    "    alist must be sorted\n",
    "    item is what we want to find\n",
    "    '''\n",
    "    n = len(alist)\n",
    "    \n",
    "    if n > 0:\n",
    "        mid = n//2\n",
    "\n",
    "        if alist[mid] == item:\n",
    "            return True\n",
    "        elif alist[mid] > item:\n",
    "            return binary_search(alist[:mid], item)\n",
    "        else:\n",
    "            return binary_search(alist[mid+1:], item)\n",
    "            \n",
    "    return False"
   ]
  },
  {
   "cell_type": "code",
   "execution_count": 16,
   "metadata": {},
   "outputs": [
    {
     "data": {
      "text/plain": [
       "True"
      ]
     },
     "execution_count": 16,
     "metadata": {},
     "output_type": "execute_result"
    }
   ],
   "source": [
    "binary_search([2,3,5,7,8,10,12], 12)"
   ]
  },
  {
   "cell_type": "markdown",
   "metadata": {},
   "source": [
    "## Not recursive"
   ]
  },
  {
   "cell_type": "code",
   "execution_count": 17,
   "metadata": {},
   "outputs": [],
   "source": [
    "def binary_search(alist, item):\n",
    "    n = len(alist)\n",
    "    first = 0\n",
    "    last = n-1\n",
    "    \n",
    "    while first <= last:\n",
    "        mid = (first + last)//2\n",
    "\n",
    "        if alist[mid] == item:\n",
    "            return True\n",
    "        elif alist[mid] > item:\n",
    "            last = mid-1\n",
    "        else:\n",
    "            first = mid+1\n",
    "    return False"
   ]
  },
  {
   "cell_type": "code",
   "execution_count": 20,
   "metadata": {},
   "outputs": [
    {
     "data": {
      "text/plain": [
       "False"
      ]
     },
     "execution_count": 20,
     "metadata": {},
     "output_type": "execute_result"
    }
   ],
   "source": [
    "binary_search([2,3,5,7,8,10,12], 9)"
   ]
  }
 ],
 "metadata": {
  "kernelspec": {
   "display_name": "Python 3",
   "language": "python",
   "name": "python3"
  },
  "language_info": {
   "codemirror_mode": {
    "name": "ipython",
    "version": 3
   },
   "file_extension": ".py",
   "mimetype": "text/x-python",
   "name": "python",
   "nbconvert_exporter": "python",
   "pygments_lexer": "ipython3",
   "version": "3.7.4"
  }
 },
 "nbformat": 4,
 "nbformat_minor": 2
}
