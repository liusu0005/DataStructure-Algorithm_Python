{
 "cells": [
  {
   "cell_type": "markdown",
   "metadata": {},
   "source": [
    "# Lesson 1 Iterations\n",
    "## BinaryGap"
   ]
  },
  {
   "cell_type": "code",
   "execution_count": null,
   "metadata": {},
   "outputs": [],
   "source": [
    "def solution(N):\n",
    "    seq = bin(N)[2:]\n",
    "    count = 0\n",
    "    maxcount = 0\n",
    "    \n",
    "    for i in seq:\n",
    "        i = int(i)\n",
    "        if i == 1:\n",
    "            if count > maxcount:\n",
    "                maxcount = count\n",
    "            count = 0\n",
    "        else:\n",
    "            count += 1\n",
    "    return maxcount       "
   ]
  },
  {
   "cell_type": "markdown",
   "metadata": {},
   "source": [
    "# Lesson 2 Arrays\n",
    "## CyclicRotation"
   ]
  },
  {
   "cell_type": "code",
   "execution_count": null,
   "metadata": {},
   "outputs": [],
   "source": [
    "def solution(A, K):\n",
    "    # write your code in Python 3.6\n",
    "    n = len(A)\n",
    "    if K == n or n == 0:\n",
    "        return A\n",
    "    else:\n",
    "        step = K%n\n",
    "        new = [0]*n\n",
    "        for i in range(n):\n",
    "            if i+step < n:\n",
    "                new[i+step] = A[i]\n",
    "            else:\n",
    "                new[i-n+step] = A[i]\n",
    "        return new"
   ]
  },
  {
   "cell_type": "markdown",
   "metadata": {},
   "source": [
    "## OddOccurrencesInArray"
   ]
  },
  {
   "cell_type": "code",
   "execution_count": 5,
   "metadata": {},
   "outputs": [],
   "source": [
    "def solution(A):\n",
    "    # write your code in Python 3.6\n",
    "    n = len(A)\n",
    "    A.sort()\n",
    "    for i in range(0, n-1, 2):\n",
    "        if A[i] != A[i+1]:\n",
    "            return A[i]\n",
    "    return A[-1]"
   ]
  },
  {
   "cell_type": "markdown",
   "metadata": {},
   "source": [
    "# Lesson 3 Time Complexity\n",
    "Complexity can be viewed as the maximum number of primitive operations that a program may execute.\n",
    "## FrogJmp"
   ]
  },
  {
   "cell_type": "code",
   "execution_count": 7,
   "metadata": {},
   "outputs": [],
   "source": [
    "def solution(X, Y, D):\n",
    "    # write your code in Python 3.6\n",
    "    dis = Y-X\n",
    "    \n",
    "    if dis%D == 0:\n",
    "        return int(dis/D)\n",
    "    else:\n",
    "        return (dis//D+1)\n",
    "    \n",
    "# O(1)"
   ]
  },
  {
   "cell_type": "markdown",
   "metadata": {},
   "source": [
    "## PermMissingElem"
   ]
  },
  {
   "cell_type": "code",
   "execution_count": null,
   "metadata": {},
   "outputs": [],
   "source": [
    "def solution(A):\n",
    "    # write your code in Python 3.6\n",
    "    n = len(A)\n",
    "    sumrange = (n+2)*(n+1)//2\n",
    "    suma = 0\n",
    "    for i in A:\n",
    "        suma += i\n",
    "    return (sumrange-suma)\n",
    "\n",
    "# O(N)"
   ]
  },
  {
   "cell_type": "markdown",
   "metadata": {},
   "source": [
    "## TapeEquilibrium"
   ]
  },
  {
   "cell_type": "code",
   "execution_count": null,
   "metadata": {},
   "outputs": [],
   "source": [
    "def solution(A):\n",
    "    # write your code in Python 3.6\n",
    "    n = len(A)\n",
    "    totalsum = 0\n",
    "    leftsum = 0\n",
    "    \n",
    "    for i in A:\n",
    "        totalsum += i\n",
    "    \n",
    "    for i in range(n-1):\n",
    "        leftsum += A[i]\n",
    "        if i == 0:\n",
    "            minsum = abs(2*leftsum - totalsum)\n",
    "        else:\n",
    "            minsum = min(minsum, abs(2*leftsum - totalsum))\n",
    "            \n",
    "    return minsum\n",
    "\n",
    "# O(N)"
   ]
  },
  {
   "cell_type": "markdown",
   "metadata": {},
   "source": [
    "# Lesson 4 Counting Elements\n",
    "## FrogRiverOne"
   ]
  },
  {
   "cell_type": "code",
   "execution_count": null,
   "metadata": {},
   "outputs": [],
   "source": [
    "def solution(X, A):\n",
    "    # write your code in Python 3.6\n",
    "    li = [0]*X\n",
    "    uncover = X\n",
    "    for i in range(len(A)):\n",
    "        if A[i] <= X and li[A[i]-1] == 0:\n",
    "            uncover -= 1\n",
    "            li[A[i]-1] += 1\n",
    "            \n",
    "            if uncover == 0:\n",
    "                return i\n",
    "    return -1\n",
    "\n",
    "# O(N)"
   ]
  },
  {
   "cell_type": "markdown",
   "metadata": {},
   "source": [
    "## MaxCounters"
   ]
  },
  {
   "cell_type": "code",
   "execution_count": null,
   "metadata": {},
   "outputs": [],
   "source": [
    "def solution(N, A):\n",
    "    # write your code in Python 3.6\n",
    "    count = [0]*N\n",
    "    premax = currmax = 0\n",
    "    \n",
    "    for i in A:\n",
    "        if i != (N+1):\n",
    "            if count[i-1] < premax:\n",
    "                count[i-1] = premax\n",
    "            count[i-1] += 1\n",
    "            \n",
    "            if count[i-1] > currmax:\n",
    "                currmax = count[i-1]\n",
    "        else:\n",
    "            premax = currmax\n",
    "                \n",
    "    for i in range(N):\n",
    "        if count[i] < premax:\n",
    "            count[i] = premax\n",
    "            \n",
    "    return count"
   ]
  },
  {
   "cell_type": "markdown",
   "metadata": {},
   "source": [
    "## MissingInteger"
   ]
  },
  {
   "cell_type": "code",
   "execution_count": null,
   "metadata": {},
   "outputs": [],
   "source": [
    "def solution(A):\n",
    "    # write your code in Python 3.6\n",
    "    A.sort()\n",
    "    premax = 0\n",
    "    if A[-1] <= 0:\n",
    "        return 1\n",
    "        \n",
    "    for i in A:\n",
    "        if i > 0 and i-premax>1:\n",
    "            return premax+1\n",
    "        if i > 0:\n",
    "            premax = i\n",
    "        \n",
    "    return A[-1]+1"
   ]
  },
  {
   "cell_type": "code",
   "execution_count": null,
   "metadata": {},
   "outputs": [],
   "source": [
    "# Method 2\n",
    "def solution(A):\n",
    "    # write your code in Python 3.6\n",
    "    n = len(A)\n",
    "    count = [0]*(n+1)\n",
    "    for i in range(n):\n",
    "        if 0 < A[i] <= (n+1):\n",
    "            count[A[i]-1] = 1\n",
    "            \n",
    "    for i in range(n+1):\n",
    "        if count[i] == 0:\n",
    "            return i+1\n",
    "    \n",
    "    return -1"
   ]
  },
  {
   "cell_type": "markdown",
   "metadata": {},
   "source": [
    "## PermCheck"
   ]
  },
  {
   "cell_type": "code",
   "execution_count": null,
   "metadata": {},
   "outputs": [],
   "source": [
    "def solution(A):\n",
    "    # write your code in Python 3.6\n",
    "    n = len(A)\n",
    "    count = [0]*n\n",
    "    \n",
    "    for i in A:\n",
    "        if 1<=i<=n:\n",
    "            count[i-1] = 1\n",
    "    \n",
    "    for i in count:\n",
    "        if i == 0:\n",
    "            return 0\n",
    "    return 1"
   ]
  },
  {
   "cell_type": "markdown",
   "metadata": {},
   "source": [
    "# Lesson 5 Prefix Sums\n",
    "## CountDiv"
   ]
  },
  {
   "cell_type": "code",
   "execution_count": null,
   "metadata": {},
   "outputs": [],
   "source": [
    "def solution(A, B, K):\n",
    "    # write your code in Python 3.6\n",
    "    \n",
    "    if A%K == 0:\n",
    "        count = (B-A)//K+1\n",
    "    else:\n",
    "        i = A//K + 1\n",
    "        count = (B-i*K)//K+1\n",
    "        \n",
    "    \n",
    "    return count\n",
    "\n",
    "#O(1)"
   ]
  },
  {
   "cell_type": "markdown",
   "metadata": {},
   "source": [
    "## GenomicRangeQuery"
   ]
  },
  {
   "cell_type": "code",
   "execution_count": null,
   "metadata": {},
   "outputs": [],
   "source": [
    "def solution(S, P, Q):\n",
    "    # write your code in Python 3.6\n",
    "    result = []\n",
    "    M = len(P)\n",
    "    for i in range(M):\n",
    "        seq = S[P[i]: Q[i]+1]\n",
    "        if 'A' in seq:\n",
    "            result.append(1)\n",
    "        elif 'C' in seq:\n",
    "            result.append(2)\n",
    "        elif 'G' in seq:\n",
    "            result.append(3)\n",
    "        else:\n",
    "            result.append(4)\n",
    "    return result\n",
    "\n",
    "# O(N+M)"
   ]
  },
  {
   "cell_type": "markdown",
   "metadata": {},
   "source": [
    "## MinAvgTwoSlice"
   ]
  },
  {
   "cell_type": "code",
   "execution_count": null,
   "metadata": {},
   "outputs": [],
   "source": [
    "def solution(A):\n",
    "    # write your code in Python 3.6\n",
    "    n = len(A)\n",
    "    if n == 2:\n",
    "        return 0\n",
    "    \n",
    "    for i in range(n-2):\n",
    "        if i == 0:\n",
    "            minsum = (A[i] + A[i+1])/2\n",
    "            minstart = 0\n",
    "        min2 = (A[i] + A[i+1])/2\n",
    "        min3 = (A[i] + A[i+1] + A[i+2])/3\n",
    "        if min2 < minsum:\n",
    "            minsum = min2\n",
    "            minstart = i\n",
    "        if min3 < minsum:\n",
    "            minsum = min3\n",
    "            minstart = i\n",
    "            \n",
    "    min2 = (A[-2] + A[-1])/2\n",
    "    if min2 < minsum:\n",
    "            minsum = min2\n",
    "            minstart = n-2\n",
    "            \n",
    "    return minstart\n",
    "\n",
    "# O(N)"
   ]
  },
  {
   "cell_type": "markdown",
   "metadata": {},
   "source": [
    "## PassingCars"
   ]
  },
  {
   "cell_type": "code",
   "execution_count": null,
   "metadata": {},
   "outputs": [],
   "source": [
    "def solution(A):\n",
    "    # write your code in Python 3.6\n",
    "    n = len(A)\n",
    "    zeroindex = []\n",
    "    \n",
    "    for i in range(n):\n",
    "        if A[i] == 0:\n",
    "            zeroindex.append(i)\n",
    "    \n",
    "    count = 0\n",
    "    m = len(zeroindex)\n",
    "    \n",
    "    for j in range(m):\n",
    "        count += (n - zeroindex[j]) - (m - j)\n",
    "        \n",
    "    if count > 10e8:\n",
    "        return -1\n",
    "    return count\n",
    "\n",
    "# O(N)"
   ]
  },
  {
   "cell_type": "markdown",
   "metadata": {},
   "source": [
    "# Lesson 6 Sorting\n",
    "## Distinct"
   ]
  },
  {
   "cell_type": "code",
   "execution_count": null,
   "metadata": {},
   "outputs": [],
   "source": [
    "def solution(A):\n",
    "    # write your code in Python 3.6\n",
    "    n = len(A)\n",
    "    if n == 0:\n",
    "        return 0\n",
    "    if n == 1:\n",
    "        return 1\n",
    "        \n",
    "    A.sort()    \n",
    "    distinct = 0\n",
    "    for i in range(1,n):\n",
    "        if A[i] != A[i-1]:\n",
    "            distinct += 1\n",
    "            \n",
    "    return distinct+1\n",
    "\n",
    "# O(N*log(N))"
   ]
  },
  {
   "cell_type": "markdown",
   "metadata": {},
   "source": [
    "## MaxProductOfThree"
   ]
  },
  {
   "cell_type": "code",
   "execution_count": null,
   "metadata": {},
   "outputs": [],
   "source": [
    "def solution(A):\n",
    "    # write your code in Python 3.6\n",
    "    A.sort()\n",
    "    return max(A[0]*A[1]*A[-1], A[-3]*A[-2]*A[-1])\n",
    "\n",
    "# O(N*log(N))"
   ]
  },
  {
   "cell_type": "markdown",
   "metadata": {},
   "source": [
    "## NumberOfDiscIntersections"
   ]
  },
  {
   "cell_type": "code",
   "execution_count": null,
   "metadata": {},
   "outputs": [],
   "source": [
    "def solution(A):\n",
    "    # write your code in Python 3.6\n",
    "    points = []\n",
    "    for i in range(len(A)):\n",
    "        points.append((i - A[i], -1))\n",
    "        points.append((i + A[i], 1))\n",
    "        \n",
    "    points = [elem[1] for elem in sorted(points)]\n",
    "    \n",
    "    opendisc = 0\n",
    "    count = 0\n",
    "    for i in points:\n",
    "        if i == -1:\n",
    "            count += opendisc\n",
    "            opendisc += 1\n",
    "        else:\n",
    "            opendisc -= 1\n",
    "    \n",
    "    if count > 10e6:\n",
    "        return -1\n",
    "    return count\n",
    "\n",
    "# O(N*log(N))"
   ]
  },
  {
   "cell_type": "markdown",
   "metadata": {},
   "source": [
    "## Triangle"
   ]
  },
  {
   "cell_type": "code",
   "execution_count": null,
   "metadata": {},
   "outputs": [],
   "source": [
    "def solution(A):\n",
    "    # write your code in Python 3.6\n",
    "    n = len(A)\n",
    "    if n < 3:\n",
    "        return 0\n",
    "    \n",
    "    A.sort()\n",
    "    \n",
    "    for i in range(n-2):\n",
    "        if A[i]+A[i+1] > A[i+2]:\n",
    "            return 1\n",
    "    return 0\n",
    "\n",
    "# O(N*log(N))"
   ]
  }
 ],
 "metadata": {
  "kernelspec": {
   "display_name": "Python 3",
   "language": "python",
   "name": "python3"
  },
  "language_info": {
   "codemirror_mode": {
    "name": "ipython",
    "version": 3
   },
   "file_extension": ".py",
   "mimetype": "text/x-python",
   "name": "python",
   "nbconvert_exporter": "python",
   "pygments_lexer": "ipython3",
   "version": "3.7.4"
  }
 },
 "nbformat": 4,
 "nbformat_minor": 2
}
