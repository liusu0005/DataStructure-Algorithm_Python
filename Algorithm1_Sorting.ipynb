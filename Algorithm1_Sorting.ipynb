{
 "cells": [
  {
   "cell_type": "markdown",
   "metadata": {},
   "source": [
    "## Bubble sort"
   ]
  },
  {
   "cell_type": "markdown",
   "metadata": {},
   "source": [
    "Best: O(n)\n",
    "\n",
    "Worst: O(n^2)\n",
    "\n",
    "Stable"
   ]
  },
  {
   "cell_type": "code",
   "execution_count": 13,
   "metadata": {},
   "outputs": [],
   "source": [
    "def bubble_sort(alist):\n",
    "    n = len(alist)\n",
    "    for j in range(n-1, 0, -1):\n",
    "        for i in range(j):\n",
    "            if alist[i+1] < alist[i]: \n",
    "                alist[i+1], alist[i] = alist[i], alist[i+1]\n",
    "    return alist"
   ]
  },
  {
   "cell_type": "code",
   "execution_count": 14,
   "metadata": {},
   "outputs": [
    {
     "data": {
      "text/plain": [
       "[-1, 2, 3, 5, 10]"
      ]
     },
     "execution_count": 14,
     "metadata": {},
     "output_type": "execute_result"
    }
   ],
   "source": [
    "bubble_sort([3,2,10,-1,5])"
   ]
  },
  {
   "cell_type": "markdown",
   "metadata": {},
   "source": [
    "## Selection sort"
   ]
  },
  {
   "cell_type": "markdown",
   "metadata": {},
   "source": [
    "Best: O(n^2)\n",
    "\n",
    "Worst: O(n^2)\n",
    "\n",
    "Unstable"
   ]
  },
  {
   "cell_type": "code",
   "execution_count": 3,
   "metadata": {},
   "outputs": [],
   "source": [
    "def selectsort(alist):\n",
    "    n = len(alist)\n",
    "    for i in range(n):\n",
    "        minindex = i\n",
    "        for j in range(i+1,n):\n",
    "            if alist[j] < alist[minindex]:\n",
    "                minindex = j\n",
    "        alist[i], alist[minindex] = alist[minindex], alist[i]\n",
    "    return alist"
   ]
  },
  {
   "cell_type": "code",
   "execution_count": 4,
   "metadata": {},
   "outputs": [
    {
     "data": {
      "text/plain": [
       "[1, 2, 2, 3, 3, 4, 5, 10]"
      ]
     },
     "execution_count": 4,
     "metadata": {},
     "output_type": "execute_result"
    }
   ],
   "source": [
    "selectsort([3,4,2,1,5,10,3,2])"
   ]
  },
  {
   "cell_type": "markdown",
   "metadata": {},
   "source": [
    "## Insertion sort"
   ]
  },
  {
   "cell_type": "markdown",
   "metadata": {},
   "source": [
    "Best: O(n)\n",
    "\n",
    "Worst: O(n^2)\n",
    "\n",
    "Stable"
   ]
  },
  {
   "cell_type": "code",
   "execution_count": 21,
   "metadata": {},
   "outputs": [],
   "source": [
    "def insert_sort(alist):\n",
    "    n = len(alist)\n",
    "    for j in range(1,n):\n",
    "        i = j\n",
    "        while i > 0:\n",
    "            if alist[i] < alist[i-1]:\n",
    "                alist[i], alist[i-1] = alist[i-1], alist[i]\n",
    "                i -= 1\n",
    "            else:\n",
    "                break           \n",
    "    return alist"
   ]
  },
  {
   "cell_type": "code",
   "execution_count": 22,
   "metadata": {},
   "outputs": [
    {
     "data": {
      "text/plain": [
       "[-1, 2, 3, 8, 9, 10]"
      ]
     },
     "execution_count": 22,
     "metadata": {},
     "output_type": "execute_result"
    }
   ],
   "source": [
    "insert_sort([2,3,-1,8,9,10])"
   ]
  },
  {
   "cell_type": "markdown",
   "metadata": {},
   "source": [
    "## Shell sort"
   ]
  },
  {
   "cell_type": "markdown",
   "metadata": {},
   "source": [
    "Best: -\n",
    "\n",
    "Worst: O(n^2)\n",
    "\n",
    "Unstable"
   ]
  },
  {
   "cell_type": "code",
   "execution_count": 26,
   "metadata": {},
   "outputs": [],
   "source": [
    "def shell_sort(alist):\n",
    "    n = len(alist)\n",
    "    gap = n//2\n",
    "    \n",
    "    while gap > 0:\n",
    "        for j in range(gap, n):\n",
    "            i = j\n",
    "            while i > 0:\n",
    "                if alist[i] < alist[i-gap]:\n",
    "                    alist[i], alist[i-gap] = alist[i-gap], alist[i]\n",
    "                    i -= gap\n",
    "                else:\n",
    "                    break\n",
    "        gap //= 2\n",
    "    return alist"
   ]
  },
  {
   "cell_type": "code",
   "execution_count": 27,
   "metadata": {},
   "outputs": [
    {
     "data": {
      "text/plain": [
       "[-10, -1, 0, 1, 2, 2, 13, 23]"
      ]
     },
     "execution_count": 27,
     "metadata": {},
     "output_type": "execute_result"
    }
   ],
   "source": [
    "shell_sort([2,13,1,-10,0,-1,23,2])"
   ]
  },
  {
   "cell_type": "markdown",
   "metadata": {},
   "source": [
    "## Counting sort"
   ]
  },
  {
   "cell_type": "markdown",
   "metadata": {},
   "source": [
    "O（n+k）"
   ]
  },
  {
   "cell_type": "code",
   "execution_count": 52,
   "metadata": {},
   "outputs": [],
   "source": [
    "def count_sort(alist, k):\n",
    "    '''\n",
    "    alist: the list input\n",
    "    k: the range of numbers in alist\n",
    "       '''\n",
    "    count = [0] * (k + 1)\n",
    "    for i in range(len(alist)):\n",
    "        count[alist[i]] += 1\n",
    "        \n",
    "    p = 0\n",
    "    for i in range(k+1):\n",
    "        for j in range(count[i]):\n",
    "            alist[p] = i\n",
    "            p += 1\n",
    "    return alist"
   ]
  },
  {
   "cell_type": "code",
   "execution_count": 53,
   "metadata": {},
   "outputs": [
    {
     "data": {
      "text/plain": [
       "[1, 1, 2, 2, 5, 7, 9, 323, 435]"
      ]
     },
     "execution_count": 53,
     "metadata": {},
     "output_type": "execute_result"
    }
   ],
   "source": [
    "count_sort([2,1,323,1,2,5,7,9,435], 500)"
   ]
  },
  {
   "cell_type": "markdown",
   "metadata": {},
   "source": [
    "## Merge sort"
   ]
  },
  {
   "cell_type": "markdown",
   "metadata": {},
   "source": [
    "Best: O(nlogn)\n",
    "\n",
    "Worst: O(nlogn)\n",
    "\n",
    "Stable"
   ]
  },
  {
   "cell_type": "code",
   "execution_count": 43,
   "metadata": {},
   "outputs": [],
   "source": [
    "def merge_sort(alist):\n",
    "    n = len(alist)\n",
    "    if n <= 1:\n",
    "        return alist\n",
    "    \n",
    "    mid = n//2\n",
    "    \n",
    "    left_list =  merge_sort(alist[:mid])\n",
    "    right_list = merge_sort(alist[mid:])\n",
    "    \n",
    "    result = []\n",
    "    left_pointer, right_pointer = 0, 0\n",
    "    \n",
    "    while left_pointer < len(left_list) and right_pointer < len(right_list):\n",
    "        if left_list[left_pointer] <= right_list[right_pointer]:\n",
    "            result.append(left_list[left_pointer])\n",
    "            left_pointer += 1\n",
    "        else:\n",
    "            result.append(right_list[right_pointer])\n",
    "            right_pointer += 1\n",
    "            \n",
    "    result += left_list[left_pointer:]\n",
    "    result += right_list[right_pointer:]\n",
    "    return result"
   ]
  },
  {
   "cell_type": "code",
   "execution_count": 44,
   "metadata": {},
   "outputs": [
    {
     "data": {
      "text/plain": [
       "[-10, 2, 3, 4, 5, 5, 80]"
      ]
     },
     "execution_count": 44,
     "metadata": {},
     "output_type": "execute_result"
    }
   ],
   "source": [
    "merge_sort([3,4,5,-10,2,5,80])"
   ]
  },
  {
   "cell_type": "markdown",
   "metadata": {},
   "source": [
    "## Quick sort"
   ]
  },
  {
   "cell_type": "markdown",
   "metadata": {},
   "source": [
    "Best: O(nlogn)\n",
    "\n",
    "Worst: O(n^2)\n",
    "\n",
    "Unstable"
   ]
  },
  {
   "cell_type": "code",
   "execution_count": 65,
   "metadata": {},
   "outputs": [],
   "source": [
    "def quick_sort(alist, first, last):\n",
    "    if first >= last:\n",
    "        return\n",
    "    low = first\n",
    "    high = last\n",
    "    mid = alist[first]\n",
    "    \n",
    "    while low < high:\n",
    "        while low < high and alist[high] >= mid:\n",
    "            high -= 1\n",
    "        alist[low] = alist[high]\n",
    "            \n",
    "        while low < high and alist[low] < mid:\n",
    "            low += 1\n",
    "        alist[high] = alist[low]\n",
    "    \n",
    "    alist[low] = mid\n",
    "    \n",
    "    quick_sort(alist, first, low-1)\n",
    "    quick_sort(alist, low+1, last)"
   ]
  },
  {
   "cell_type": "code",
   "execution_count": 69,
   "metadata": {},
   "outputs": [],
   "source": [
    "quick_sort([4,2,2,10,-2,5,89], 0, 6)"
   ]
  }
 ],
 "metadata": {
  "kernelspec": {
   "display_name": "Python 3",
   "language": "python",
   "name": "python3"
  },
  "language_info": {
   "codemirror_mode": {
    "name": "ipython",
    "version": 3
   },
   "file_extension": ".py",
   "mimetype": "text/x-python",
   "name": "python",
   "nbconvert_exporter": "python",
   "pygments_lexer": "ipython3",
   "version": "3.7.4"
  }
 },
 "nbformat": 4,
 "nbformat_minor": 4
}
